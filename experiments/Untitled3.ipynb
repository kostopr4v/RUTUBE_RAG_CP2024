{
 "cells": [
  {
   "cell_type": "code",
   "execution_count": null,
   "id": "2c95d057-6958-4dea-b39a-719fa4e8189e",
   "metadata": {},
   "outputs": [],
   "source": []
  }
 ],
 "metadata": {
  "kernelspec": {
   "display_name": "",
   "name": ""
  },
  "language_info": {
   "name": ""
  }
 },
 "nbformat": 4,
 "nbformat_minor": 5
}

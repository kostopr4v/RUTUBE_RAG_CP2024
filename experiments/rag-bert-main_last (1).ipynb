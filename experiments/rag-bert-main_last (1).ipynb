{
 "cells": [
  {
   "cell_type": "code",
   "execution_count": 37,
   "metadata": {},
   "outputs": [
    {
     "name": "stdout",
     "output_type": "stream",
     "text": [
      "Requirement already satisfied: nltk in /usr/local/lib/python3.10/dist-packages (3.9.1)\n",
      "Requirement already satisfied: prettytable in /usr/local/lib/python3.10/dist-packages (3.11.0)\n",
      "Requirement already satisfied: openpyxl in /usr/local/lib/python3.10/dist-packages (3.1.5)\n",
      "Requirement already satisfied: click in /usr/lib/python3/dist-packages (from nltk) (8.0.3)\n",
      "Requirement already satisfied: tqdm in /usr/local/lib/python3.10/dist-packages (from nltk) (4.66.5)\n",
      "Requirement already satisfied: regex>=2021.8.3 in /usr/local/lib/python3.10/dist-packages (from nltk) (2024.9.11)\n",
      "Requirement already satisfied: joblib in /usr/local/lib/python3.10/dist-packages (from nltk) (1.4.2)\n",
      "Requirement already satisfied: wcwidth in /usr/local/lib/python3.10/dist-packages (from prettytable) (0.2.13)\n",
      "Requirement already satisfied: et-xmlfile in /usr/local/lib/python3.10/dist-packages (from openpyxl) (1.1.0)\n",
      "\u001b[33mWARNING: Running pip as the 'root' user can result in broken permissions and conflicting behaviour with the system package manager. It is recommended to use a virtual environment instead: https://pip.pypa.io/warnings/venv\u001b[0m\u001b[33m\n",
      "\u001b[0m"
     ]
    }
   ],
   "source": [
    "!sudo pip install nltk prettytable openpyxl"
   ]
  },
  {
   "cell_type": "code",
   "execution_count": 2,
   "metadata": {
    "scrolled": true
   },
   "outputs": [
    {
     "name": "stderr",
     "output_type": "stream",
     "text": [
      "[nltk_data] Downloading package stopwords to /home/user1/nltk_data...\n",
      "[nltk_data]   Package stopwords is already up-to-date!\n",
      "[nltk_data] Downloading package stopwords to /home/user1/nltk_data...\n",
      "[nltk_data]   Package stopwords is already up-to-date!\n"
     ]
    }
   ],
   "source": [
    "# !wget https://dl.fbaipublicfiles.com/fasttext/vectors-crawl/cc.ru.300.bin.gz\n",
    "# !gzip -d cc.ru.300.bin.gz\n",
    "# !pip install -U bitsandbytes\n",
    "# !pip install fasttext faiss-cpu nltk transformers sentencepiece langchain_community\n",
    "\n",
    "import pandas as pd\n",
    "# !wget https://dl.fbaipublicfiles.com/fasttext/vectors-crawl/cc.ru.300.bin.gz\n",
    "# !gzip -d cc.ru.300.bin.gz\n",
    "# !pip install fasttext faiss-cpu nltk transformers sentencepiece\n",
    "import pandas as pd\n",
    "import warnings\n",
    "import re\n",
    "# import fasttext\n",
    "import faiss\n",
    "# import catboost as cb\n",
    "from sklearn.model_selection import train_test_split\n",
    "from sklearn import metrics\n",
    "import numpy as np\n",
    "import string\n",
    "import nltk\n",
    "import torch\n",
    "import torch.nn as nn\n",
    "import torch.nn.functional as F\n",
    "import torch.optim as optim\n",
    "import torchvision\n",
    "from torch.utils.data import Dataset, DataLoader\n",
    "\n",
    "import os\n",
    "\n",
    "from tqdm.notebook import tqdm\n",
    "\n",
    "from prettytable import PrettyTable\n",
    "import random\n",
    "import numpy as np\n",
    "import gc\n",
    "import scipy.io as sio\n",
    "import time\n",
    "import os\n",
    "import pandas as pd\n",
    "from tqdm import tqdm\n",
    "from langchain_community.vectorstores import FAISS\n",
    "from langchain_community.embeddings import HuggingFaceEmbeddings\n",
    "from transformers import AutoTokenizer, AutoModelForCausalLM, GenerationConfig\n",
    "import torch\n",
    "torch.manual_seed(42)\n",
    "import time\n",
    "import warnings\n",
    "warnings.simplefilter('ignore')\n",
    "import re\n",
    "from transformers import logging\n",
    "logging.set_verbosity_error()\n",
    "from sklearn.metrics import f1_score, accuracy_score, matthews_corrcoef\n",
    "\n",
    "from torchvision import datasets, transforms as T\n",
    "\n",
    "from transformers import AutoTokenizer, AutoModel, BertModel\n",
    "\n",
    "from sklearn import preprocessing\n",
    "from sklearn.model_selection import train_test_split\n",
    "\n",
    "nltk.download('stopwords')\n",
    "from nltk.corpus import stopwords as nl_stopwords\n",
    "import torch\n",
    "from transformers import AutoTokenizer, AutoModelForSequenceClassification\n",
    "# from sklearn.metrics.pairwise import linear_kernel\n",
    "from scipy.spatial.distance import cosine\n",
    "warnings.filterwarnings('ignore')\n",
    "import warnings\n",
    "import re\n",
    "# import fasttext\n",
    "import faiss\n",
    "from sklearn.model_selection import train_test_split\n",
    "from sklearn import metrics\n",
    "import numpy as np\n",
    "import string\n",
    "import nltk\n",
    "import torch\n",
    "import torch.nn as nn\n",
    "import torch.nn.functional as F\n",
    "import torch.optim as optim\n",
    "import torchvision\n",
    "from torch.utils.data import Dataset, DataLoader\n",
    "\n",
    "import os\n",
    "\n",
    "from tqdm.notebook import tqdm\n",
    "\n",
    "from prettytable import PrettyTable\n",
    "import random\n",
    "import numpy as np\n",
    "import gc\n",
    "import scipy.io as sio\n",
    "import time\n",
    "\n",
    "from sklearn.metrics import f1_score, accuracy_score, matthews_corrcoef\n",
    "\n",
    "from torchvision import datasets, transforms as T\n",
    "\n",
    "from transformers import AutoTokenizer, AutoModel, BertModel\n",
    "\n",
    "from sklearn import preprocessing\n",
    "from sklearn.model_selection import train_test_split\n",
    "\n",
    "nltk.download('stopwords')\n",
    "from nltk.corpus import stopwords as nl_stopwords\n",
    "import torch\n",
    "from transformers import AutoTokenizer, AutoModelForSequenceClassification\n",
    "# from sklearn.metrics.pairwise import linear_kernel\n",
    "from scipy.spatial.distance import cosine\n",
    "warnings.filterwarnings('ignore')"
   ]
  },
  {
   "cell_type": "code",
   "execution_count": null,
   "metadata": {},
   "outputs": [],
   "source": []
  },
  {
   "cell_type": "code",
   "execution_count": 3,
   "metadata": {},
   "outputs": [],
   "source": [
    "os.environ[\"TOKENIZERS_PARALLELISM\"] = \"true\""
   ]
  },
  {
   "cell_type": "code",
   "execution_count": 4,
   "metadata": {},
   "outputs": [],
   "source": [
    "def clear_cache():\n",
    "    gc.collect()\n",
    "    torch.cuda.empty_cache()\n",
    "    gc.collect()\n",
    "\n",
    "def set_seed(seed):\n",
    "    torch.manual_seed(seed)\n",
    "    torch.cuda.manual_seed(seed)\n",
    "    np.random.seed(seed)\n",
    "    random.seed(seed)\n",
    "\n",
    "    torch.backends.cudnn.deterministic=True"
   ]
  },
  {
   "cell_type": "code",
   "execution_count": 5,
   "metadata": {},
   "outputs": [],
   "source": [
    "stopwords = nl_stopwords.words('russian')"
   ]
  },
  {
   "cell_type": "markdown",
   "metadata": {},
   "source": [
    "##  vvv\n"
   ]
  },
  {
   "cell_type": "code",
   "execution_count": 6,
   "metadata": {},
   "outputs": [
    {
     "name": "stdout",
     "output_type": "stream",
     "text": [
      "ls: cannot access './data/05_Таблица': No such file or directory\n",
      "ls: cannot access 'классификаторов.xlsx': No such file or directory\n"
     ]
    }
   ],
   "source": [
    "!ls ./data/05_Таблица классификаторов.xlsx"
   ]
  },
  {
   "cell_type": "code",
   "execution_count": 7,
   "metadata": {},
   "outputs": [
    {
     "data": {
      "text/html": [
       "<div>\n",
       "<style scoped>\n",
       "    .dataframe tbody tr th:only-of-type {\n",
       "        vertical-align: middle;\n",
       "    }\n",
       "\n",
       "    .dataframe tbody tr th {\n",
       "        vertical-align: top;\n",
       "    }\n",
       "\n",
       "    .dataframe thead th {\n",
       "        text-align: right;\n",
       "    }\n",
       "</style>\n",
       "<table border=\"1\" class=\"dataframe\">\n",
       "  <thead>\n",
       "    <tr style=\"text-align: right;\">\n",
       "      <th></th>\n",
       "      <th>Тема</th>\n",
       "      <th>Вопрос из БЗ</th>\n",
       "      <th>Ответ из БЗ</th>\n",
       "      <th>Классификатор 1 уровня</th>\n",
       "      <th>Классификатор 2 уровня</th>\n",
       "    </tr>\n",
       "  </thead>\n",
       "  <tbody>\n",
       "    <tr>\n",
       "      <th>0</th>\n",
       "      <td>Что нельзя публиковать на RUTUBE</td>\n",
       "      <td>Что нельзя публиковать на RUTUBE?</td>\n",
       "      <td>Чужой контент без разрешения автора или правоо...</td>\n",
       "      <td>МОДЕРАЦИЯ</td>\n",
       "      <td>Отклонение/блокировка видео</td>\n",
       "    </tr>\n",
       "    <tr>\n",
       "      <th>1</th>\n",
       "      <td>Почему могут отключить монетизацию на видео и ...</td>\n",
       "      <td>Почему могут отключить монетизацию из-за автор...</td>\n",
       "      <td>Монетизация может отключиться, если на вашем к...</td>\n",
       "      <td>МОНЕТИЗАЦИЯ</td>\n",
       "      <td>Отключение/подключение монетизации</td>\n",
       "    </tr>\n",
       "    <tr>\n",
       "      <th>2</th>\n",
       "      <td>Почему могут отключить монетизацию на видео и ...</td>\n",
       "      <td>Почему могут отключить монетизацию из-за искус...</td>\n",
       "      <td>Монетизация на RUTUBE зависит в том числе от к...</td>\n",
       "      <td>МОНЕТИЗАЦИЯ</td>\n",
       "      <td>Отключение/подключение монетизации</td>\n",
       "    </tr>\n",
       "    <tr>\n",
       "      <th>3</th>\n",
       "      <td>Почему могут отключить монетизацию на видео и ...</td>\n",
       "      <td>Для каких статусов доступна монетизация, и поч...</td>\n",
       "      <td>Монетизацию на RUTUBE можно подключить, если в...</td>\n",
       "      <td>МОНЕТИЗАЦИЯ</td>\n",
       "      <td>Отключение/подключение монетизации</td>\n",
       "    </tr>\n",
       "    <tr>\n",
       "      <th>4</th>\n",
       "      <td>Авторское право</td>\n",
       "      <td>Какой контент можно использовать для монетизац...</td>\n",
       "      <td>То, что вы создали сами: видео, которое вы сня...</td>\n",
       "      <td>МОНЕТИЗАЦИЯ</td>\n",
       "      <td>Отключение/подключение монетизации</td>\n",
       "    </tr>\n",
       "  </tbody>\n",
       "</table>\n",
       "</div>"
      ],
      "text/plain": [
       "                                                Тема  \\\n",
       "0                   Что нельзя публиковать на RUTUBE   \n",
       "1  Почему могут отключить монетизацию на видео и ...   \n",
       "2  Почему могут отключить монетизацию на видео и ...   \n",
       "3  Почему могут отключить монетизацию на видео и ...   \n",
       "4                                    Авторское право   \n",
       "\n",
       "                                        Вопрос из БЗ  \\\n",
       "0                  Что нельзя публиковать на RUTUBE?   \n",
       "1  Почему могут отключить монетизацию из-за автор...   \n",
       "2  Почему могут отключить монетизацию из-за искус...   \n",
       "3  Для каких статусов доступна монетизация, и поч...   \n",
       "4  Какой контент можно использовать для монетизац...   \n",
       "\n",
       "                                         Ответ из БЗ Классификатор 1 уровня  \\\n",
       "0  Чужой контент без разрешения автора или правоо...              МОДЕРАЦИЯ   \n",
       "1  Монетизация может отключиться, если на вашем к...            МОНЕТИЗАЦИЯ   \n",
       "2  Монетизация на RUTUBE зависит в том числе от к...            МОНЕТИЗАЦИЯ   \n",
       "3  Монетизацию на RUTUBE можно подключить, если в...            МОНЕТИЗАЦИЯ   \n",
       "4  То, что вы создали сами: видео, которое вы сня...            МОНЕТИЗАЦИЯ   \n",
       "\n",
       "               Классификатор 2 уровня  \n",
       "0         Отклонение/блокировка видео  \n",
       "1  Отключение/подключение монетизации  \n",
       "2  Отключение/подключение монетизации  \n",
       "3  Отключение/подключение монетизации  \n",
       "4  Отключение/подключение монетизации  "
      ]
     },
     "execution_count": 7,
     "metadata": {},
     "output_type": "execute_result"
    }
   ],
   "source": [
    "baza_df = pd.read_excel(\"./data/01_База_знаний.xlsx\")\n",
    "df = pd.read_excel('./data/02_Реальные_кейсы.xlsx')\n",
    "df_classes = pd.read_excel('./data/05_Таблица классификаторов.xlsx')\n",
    "baza_df.head()"
   ]
  },
  {
   "cell_type": "code",
   "execution_count": null,
   "metadata": {},
   "outputs": [],
   "source": []
  },
  {
   "cell_type": "code",
   "execution_count": 8,
   "metadata": {},
   "outputs": [],
   "source": [
    "p_d = './,][-\")(~!#@^%$;*?&№∙^:<:>=_+\\|`1°234}{567890'\n",
    "\n",
    "def preprocess(text):\n",
    "    output = text.replace('\\n', ' ').replace('\\t', ' ').replace('\\u200c', ' ')\n",
    "    output = re.sub(r'''(?i)\\b((?:https?://|www\\d{0,3}[.]|[a-z0-9.\\-]+[.][a-z]{2,4}/)(?:[^\\s()<>]+|\\(([^\\s()<>]+|(\\([^\\s()<>]+\\)))*\\))+(?:\\(([^\\s()<>]+|(\\([^\\s()<>]+\\)))*\\)|[^\\s`!()\\[\\]{};:'\".,<>?«»“”‘’]))''', \"\", output)\n",
    "    output = re.sub(r'^https?:\\/\\/.*[\\r\\n]*', '', output, flags=re.MULTILINE)\n",
    "    for k in p_d:\n",
    "        output = output.replace(k,' ')\n",
    "    output = output.replace('  ', ' ')\n",
    "    return output.strip()"
   ]
  },
  {
   "cell_type": "markdown",
   "metadata": {},
   "source": [
    "**PREPROCESS_DATA**"
   ]
  },
  {
   "cell_type": "code",
   "execution_count": 9,
   "metadata": {},
   "outputs": [],
   "source": [
    "df = pd.read_csv('./data/train_normal.csv')"
   ]
  },
  {
   "cell_type": "code",
   "execution_count": 10,
   "metadata": {},
   "outputs": [],
   "source": [
    "df['additional'] = ' | ' + df[\"top_5\"]\n",
    "for i in range(5):\n",
    "    df['additional'] += ' | ' + df[f\"top_{i}\"]\n"
   ]
  },
  {
   "cell_type": "code",
   "execution_count": 11,
   "metadata": {},
   "outputs": [],
   "source": [
    "train_data = df[['question', 'additional', 'class_1', 'class_2']]"
   ]
  },
  {
   "cell_type": "code",
   "execution_count": 12,
   "metadata": {},
   "outputs": [],
   "source": [
    "classes_1 = train_data['class_1'].unique()\n",
    "classes_1_str2int = {classes_1[i]:i for i in range(len(classes_1))}\n",
    "classes_1_int2str = {i:classes_1[i] for i in range(len(classes_1))}\n",
    "classes_2 = train_data['class_2'].unique()\n",
    "classes_2_str2int = { classes_2[i]:i for i in range(len(classes_2))}\n",
    "classes_2_int2str = { i:classes_2[i] for i in range(len(classes_2))}"
   ]
  },
  {
   "cell_type": "code",
   "execution_count": 13,
   "metadata": {},
   "outputs": [],
   "source": [
    "train_data['y1'] = train_data['class_1'].apply(lambda x: classes_1_str2int[x])\n",
    "train_data['y2'] = train_data['class_2'].apply(lambda x: classes_2_str2int[x])\n",
    "train_data = train_data.drop(['class_1', \"class_2\"], axis=1)"
   ]
  },
  {
   "cell_type": "code",
   "execution_count": 14,
   "metadata": {},
   "outputs": [],
   "source": [
    "train_data = train_data[~(train_data.question.apply(lambda x: len(str(x))) == 0)]"
   ]
  },
  {
   "cell_type": "code",
   "execution_count": 15,
   "metadata": {},
   "outputs": [],
   "source": [
    "from random import randint"
   ]
  },
  {
   "cell_type": "code",
   "execution_count": 16,
   "metadata": {},
   "outputs": [],
   "source": [
    "def aug_crop_lst(lst):\n",
    "    \n",
    "    p = randint(1,10)\n",
    "\n",
    "    if p>7:\n",
    "        k = randint(0,len(lst)-1)\n",
    "        lst[k] = \" \"\n",
    "    return ' '.join(lst)"
   ]
  },
  {
   "cell_type": "code",
   "execution_count": 17,
   "metadata": {},
   "outputs": [],
   "source": [
    "def aug_crop_str(s):\n",
    "    \n",
    "    p = randint(1,100)\n",
    "    if p>85:\n",
    "        new_s = ''\n",
    "        k = randint(0,len(s)-1)\n",
    "        for i in range(len(s)):\n",
    "            if i!= k:\n",
    "                new_s += s[i]\n",
    "    return s"
   ]
  },
  {
   "cell_type": "code",
   "execution_count": 18,
   "metadata": {},
   "outputs": [],
   "source": [
    "# print(aug_crop_str('qaewsrtfgyhu hbjgvcf f ff yta'))"
   ]
  },
  {
   "cell_type": "code",
   "execution_count": 19,
   "metadata": {},
   "outputs": [],
   "source": [
    "class ClassificationDataset(Dataset):\n",
    "    def __init__(self, data):\n",
    "        super().__init__()\n",
    "        self.text = data.question.to_list()\n",
    "        self.additional = data.additional.to_list()\n",
    "        self.target = data.y1.to_list()\n",
    "\n",
    "    def __getitem__(self, idx):\n",
    "        text, target = self.text[idx],self.target[idx]\n",
    "        text = [aug_crop_str(item) for item in text.split()]\n",
    "        try:\n",
    "            text = aug_crop_lst(text)\n",
    "        except:\n",
    "            print('niga', text)\n",
    "        return text +' ' + self.additional[idx], target\n",
    "\n",
    "    def __len__(self):\n",
    "        return len(self.text)\n",
    "\n",
    "def collate_fn(batch):\n",
    "    model_input = []\n",
    "    model_target = []\n",
    "    for text, target in batch:\n",
    "        model_input.append(text)\n",
    "        model_target.append(target)\n",
    "\n",
    "    tok = tokenizer(model_input, padding=True,\n",
    "                    max_length=512, truncation=True,\n",
    "                    return_tensors='pt')\n",
    "    return tok, torch.tensor(model_target).long()\n"
   ]
  },
  {
   "cell_type": "code",
   "execution_count": 20,
   "metadata": {},
   "outputs": [],
   "source": [
    "def get_loader(dataset, shuffle, batch_size):\n",
    "    loader = DataLoader(\n",
    "        dataset,\n",
    "        batch_size=batch_size,\n",
    "        shuffle=shuffle,\n",
    "        pin_memory=False,\n",
    "        num_workers=0,\n",
    "        collate_fn=collate_fn\n",
    "    )\n",
    "    return loader\n"
   ]
  },
  {
   "cell_type": "code",
   "execution_count": 21,
   "metadata": {},
   "outputs": [],
   "source": [
    "train_data['origin'] = 'sint'\n",
    "train_data.loc[:801, 'origin'] = 'original'"
   ]
  },
  {
   "cell_type": "code",
   "execution_count": 22,
   "metadata": {},
   "outputs": [],
   "source": [
    "for_split_data = train_data[train_data['origin'] == 'original'].dropna()"
   ]
  },
  {
   "cell_type": "code",
   "execution_count": 23,
   "metadata": {},
   "outputs": [
    {
     "data": {
      "text/html": [
       "<div>\n",
       "<style scoped>\n",
       "    .dataframe tbody tr th:only-of-type {\n",
       "        vertical-align: middle;\n",
       "    }\n",
       "\n",
       "    .dataframe tbody tr th {\n",
       "        vertical-align: top;\n",
       "    }\n",
       "\n",
       "    .dataframe thead th {\n",
       "        text-align: right;\n",
       "    }\n",
       "</style>\n",
       "<table border=\"1\" class=\"dataframe\">\n",
       "  <thead>\n",
       "    <tr style=\"text-align: right;\">\n",
       "      <th></th>\n",
       "      <th>question</th>\n",
       "      <th>additional</th>\n",
       "      <th>y1</th>\n",
       "      <th>y2</th>\n",
       "      <th>origin</th>\n",
       "    </tr>\n",
       "  </thead>\n",
       "  <tbody>\n",
       "    <tr>\n",
       "      <th>0</th>\n",
       "      <td>Здравствуйте Можно уточнить причины Правилhttp...</td>\n",
       "      <td>| Что нельзя публиковать на RUTUBE | Что нель...</td>\n",
       "      <td>0</td>\n",
       "      <td>0</td>\n",
       "      <td>original</td>\n",
       "    </tr>\n",
       "    <tr>\n",
       "      <th>1</th>\n",
       "      <td>Добрый вечер какой топ причин блокировки видео...</td>\n",
       "      <td>| Общие вопросы | Не могу посмотреть ролик в ...</td>\n",
       "      <td>0</td>\n",
       "      <td>0</td>\n",
       "      <td>original</td>\n",
       "    </tr>\n",
       "    <tr>\n",
       "      <th>2</th>\n",
       "      <td>Все пишут что монетизация на рутубе отключаетс...</td>\n",
       "      <td>| Почему могут отключить монетизацию на видео...</td>\n",
       "      <td>1</td>\n",
       "      <td>1</td>\n",
       "      <td>original</td>\n",
       "    </tr>\n",
       "    <tr>\n",
       "      <th>3</th>\n",
       "      <td>Что запрещено в монетизации и что можно выклад...</td>\n",
       "      <td>| Почему могут отключить монетизацию на видео...</td>\n",
       "      <td>1</td>\n",
       "      <td>1</td>\n",
       "      <td>original</td>\n",
       "    </tr>\n",
       "    <tr>\n",
       "      <th>4</th>\n",
       "      <td>Чтобы не отключали монетизацию надо чтобы я са...</td>\n",
       "      <td>| Почему могут отключить монетизацию на видео...</td>\n",
       "      <td>1</td>\n",
       "      <td>1</td>\n",
       "      <td>original</td>\n",
       "    </tr>\n",
       "    <tr>\n",
       "      <th>...</th>\n",
       "      <td>...</td>\n",
       "      <td>...</td>\n",
       "      <td>...</td>\n",
       "      <td>...</td>\n",
       "      <td>...</td>\n",
       "    </tr>\n",
       "    <tr>\n",
       "      <th>796</th>\n",
       "      <td>Добрый день Как добавить таймкоды в видео</td>\n",
       "      <td>| Загрузка видео | Как добавить тайм коды под...</td>\n",
       "      <td>6</td>\n",
       "      <td>12</td>\n",
       "      <td>original</td>\n",
       "    </tr>\n",
       "    <tr>\n",
       "      <th>797</th>\n",
       "      <td>Как добавить временные интервалы</td>\n",
       "      <td>| Загрузка видео | Как добавить тайм коды под...</td>\n",
       "      <td>6</td>\n",
       "      <td>12</td>\n",
       "      <td>original</td>\n",
       "    </tr>\n",
       "    <tr>\n",
       "      <th>798</th>\n",
       "      <td>В каком формате добавляются таймкоды</td>\n",
       "      <td>| Загрузка видео | В каком формате нужно доба...</td>\n",
       "      <td>6</td>\n",
       "      <td>12</td>\n",
       "      <td>original</td>\n",
       "    </tr>\n",
       "    <tr>\n",
       "      <th>799</th>\n",
       "      <td>Как мне правильно указать тайм код</td>\n",
       "      <td>| Загрузка видео | В каком формате нужно доба...</td>\n",
       "      <td>6</td>\n",
       "      <td>12</td>\n",
       "      <td>original</td>\n",
       "    </tr>\n",
       "    <tr>\n",
       "      <th>800</th>\n",
       "      <td>Как правильно указывать время под видео</td>\n",
       "      <td>| Загрузка видео | В каком формате нужно доба...</td>\n",
       "      <td>6</td>\n",
       "      <td>12</td>\n",
       "      <td>original</td>\n",
       "    </tr>\n",
       "  </tbody>\n",
       "</table>\n",
       "<p>801 rows × 5 columns</p>\n",
       "</div>"
      ],
      "text/plain": [
       "                                              question  \\\n",
       "0    Здравствуйте Можно уточнить причины Правилhttp...   \n",
       "1    Добрый вечер какой топ причин блокировки видео...   \n",
       "2    Все пишут что монетизация на рутубе отключаетс...   \n",
       "3    Что запрещено в монетизации и что можно выклад...   \n",
       "4    Чтобы не отключали монетизацию надо чтобы я са...   \n",
       "..                                                 ...   \n",
       "796          Добрый день Как добавить таймкоды в видео   \n",
       "797                   Как добавить временные интервалы   \n",
       "798               В каком формате добавляются таймкоды   \n",
       "799                 Как мне правильно указать тайм код   \n",
       "800            Как правильно указывать время под видео   \n",
       "\n",
       "                                            additional  y1  y2    origin  \n",
       "0     | Что нельзя публиковать на RUTUBE | Что нель...   0   0  original  \n",
       "1     | Общие вопросы | Не могу посмотреть ролик в ...   0   0  original  \n",
       "2     | Почему могут отключить монетизацию на видео...   1   1  original  \n",
       "3     | Почему могут отключить монетизацию на видео...   1   1  original  \n",
       "4     | Почему могут отключить монетизацию на видео...   1   1  original  \n",
       "..                                                 ...  ..  ..       ...  \n",
       "796   | Загрузка видео | Как добавить тайм коды под...   6  12  original  \n",
       "797   | Загрузка видео | Как добавить тайм коды под...   6  12  original  \n",
       "798   | Загрузка видео | В каком формате нужно доба...   6  12  original  \n",
       "799   | Загрузка видео | В каком формате нужно доба...   6  12  original  \n",
       "800   | Загрузка видео | В каком формате нужно доба...   6  12  original  \n",
       "\n",
       "[801 rows x 5 columns]"
      ]
     },
     "execution_count": 23,
     "metadata": {},
     "output_type": "execute_result"
    }
   ],
   "source": [
    "for_split_data"
   ]
  },
  {
   "cell_type": "code",
   "execution_count": 24,
   "metadata": {},
   "outputs": [],
   "source": [
    "X_train, X_test = train_test_split(for_split_data.drop(['y2'], axis=1), test_size=0.1, random_state=42, stratify=for_split_data['y1'])\n",
    "# train_data_1, valid_df_1 = train_test_split(train_data_1, test_size=0.1, random_state=42, stratify=train_data_1['y1'])"
   ]
  },
  {
   "cell_type": "code",
   "execution_count": 25,
   "metadata": {},
   "outputs": [
    {
     "data": {
      "text/html": [
       "<div>\n",
       "<style scoped>\n",
       "    .dataframe tbody tr th:only-of-type {\n",
       "        vertical-align: middle;\n",
       "    }\n",
       "\n",
       "    .dataframe tbody tr th {\n",
       "        vertical-align: top;\n",
       "    }\n",
       "\n",
       "    .dataframe thead th {\n",
       "        text-align: right;\n",
       "    }\n",
       "</style>\n",
       "<table border=\"1\" class=\"dataframe\">\n",
       "  <thead>\n",
       "    <tr style=\"text-align: right;\">\n",
       "      <th></th>\n",
       "      <th>question</th>\n",
       "      <th>additional</th>\n",
       "      <th>y1</th>\n",
       "      <th>origin</th>\n",
       "    </tr>\n",
       "  </thead>\n",
       "  <tbody>\n",
       "    <tr>\n",
       "      <th>340</th>\n",
       "      <td>А стримить это как</td>\n",
       "      <td>| Общие вопросы | Что такое трансляции стримы...</td>\n",
       "      <td>7</td>\n",
       "      <td>original</td>\n",
       "    </tr>\n",
       "    <tr>\n",
       "      <th>583</th>\n",
       "      <td>Есть возвращение пароля</td>\n",
       "      <td>| Общие вопросы | Как восстановить пароль | Ч...</td>\n",
       "      <td>2</td>\n",
       "      <td>original</td>\n",
       "    </tr>\n",
       "    <tr>\n",
       "      <th>758</th>\n",
       "      <td>Как скачать видео</td>\n",
       "      <td>| Общие вопросы | Как загрузить видеоролик на...</td>\n",
       "      <td>4</td>\n",
       "      <td>original</td>\n",
       "    </tr>\n",
       "    <tr>\n",
       "      <th>600</th>\n",
       "      <td>Удалил свой аккаунт восстановите плих</td>\n",
       "      <td>| Общие вопросы | Я удалил свой аккаунт а теп...</td>\n",
       "      <td>2</td>\n",
       "      <td>original</td>\n",
       "    </tr>\n",
       "    <tr>\n",
       "      <th>129</th>\n",
       "      <td>Как выйти из акаунта в приложении студии</td>\n",
       "      <td>| Мобильное приложение Студия RUTUBE на Andro...</td>\n",
       "      <td>2</td>\n",
       "      <td>original</td>\n",
       "    </tr>\n",
       "    <tr>\n",
       "      <th>...</th>\n",
       "      <td>...</td>\n",
       "      <td>...</td>\n",
       "      <td>...</td>\n",
       "      <td>...</td>\n",
       "    </tr>\n",
       "    <tr>\n",
       "      <th>494</th>\n",
       "      <td>Мне не подтвердили галочку что теперь</td>\n",
       "      <td>| Верификация | Что делать если заявку не одо...</td>\n",
       "      <td>2</td>\n",
       "      <td>original</td>\n",
       "    </tr>\n",
       "    <tr>\n",
       "      <th>573</th>\n",
       "      <td>Зачем мне регистрация</td>\n",
       "      <td>| Общие вопросы | Зачем нужна регистрация на ...</td>\n",
       "      <td>2</td>\n",
       "      <td>original</td>\n",
       "    </tr>\n",
       "    <tr>\n",
       "      <th>205</th>\n",
       "      <td>Можно дать профилю роль редактора с ограниченн...</td>\n",
       "      <td>| Предоставление доступа к каналу в Студии RU...</td>\n",
       "      <td>5</td>\n",
       "      <td>original</td>\n",
       "    </tr>\n",
       "    <tr>\n",
       "      <th>69</th>\n",
       "      <td>уже можно настраивать доступп к студии через п...</td>\n",
       "      <td>| Мобильное приложение Студия RUTUBE на IOS |...</td>\n",
       "      <td>5</td>\n",
       "      <td>original</td>\n",
       "    </tr>\n",
       "    <tr>\n",
       "      <th>309</th>\n",
       "      <td>Где найти ролики которые я посмотрел</td>\n",
       "      <td>| Smart TV | Где найти историю просмотра | Гд...</td>\n",
       "      <td>2</td>\n",
       "      <td>original</td>\n",
       "    </tr>\n",
       "  </tbody>\n",
       "</table>\n",
       "<p>720 rows × 4 columns</p>\n",
       "</div>"
      ],
      "text/plain": [
       "                                              question  \\\n",
       "340                                 А стримить это как   \n",
       "583                            Есть возвращение пароля   \n",
       "758                                  Как скачать видео   \n",
       "600              Удалил свой аккаунт восстановите плих   \n",
       "129           Как выйти из акаунта в приложении студии   \n",
       "..                                                 ...   \n",
       "494              Мне не подтвердили галочку что теперь   \n",
       "573                              Зачем мне регистрация   \n",
       "205  Можно дать профилю роль редактора с ограниченн...   \n",
       "69   уже можно настраивать доступп к студии через п...   \n",
       "309               Где найти ролики которые я посмотрел   \n",
       "\n",
       "                                            additional  y1    origin  \n",
       "340   | Общие вопросы | Что такое трансляции стримы...   7  original  \n",
       "583   | Общие вопросы | Как восстановить пароль | Ч...   2  original  \n",
       "758   | Общие вопросы | Как загрузить видеоролик на...   4  original  \n",
       "600   | Общие вопросы | Я удалил свой аккаунт а теп...   2  original  \n",
       "129   | Мобильное приложение Студия RUTUBE на Andro...   2  original  \n",
       "..                                                 ...  ..       ...  \n",
       "494   | Верификация | Что делать если заявку не одо...   2  original  \n",
       "573   | Общие вопросы | Зачем нужна регистрация на ...   2  original  \n",
       "205   | Предоставление доступа к каналу в Студии RU...   5  original  \n",
       "69    | Мобильное приложение Студия RUTUBE на IOS |...   5  original  \n",
       "309   | Smart TV | Где найти историю просмотра | Гд...   2  original  \n",
       "\n",
       "[720 rows x 4 columns]"
      ]
     },
     "execution_count": 25,
     "metadata": {},
     "output_type": "execute_result"
    }
   ],
   "source": [
    "X_train"
   ]
  },
  {
   "cell_type": "code",
   "execution_count": 26,
   "metadata": {},
   "outputs": [],
   "source": [
    "external_data = train_data[train_data['origin'] == 'sint'].dropna().drop(columns=['y2'])"
   ]
  },
  {
   "cell_type": "code",
   "execution_count": 27,
   "metadata": {},
   "outputs": [],
   "source": [
    "X_train = pd.concat([X_train, external_data])"
   ]
  },
  {
   "cell_type": "code",
   "execution_count": 28,
   "metadata": {},
   "outputs": [],
   "source": [
    "class BertCLS(nn.Module):\n",
    "    def __init__(self, model, n_classes):\n",
    "        super(BertCLS, self).__init__()\n",
    "        self.model = model\n",
    "        self.fc = nn.Linear(1024, n_classes)\n",
    "    \n",
    "    def forward(self, batch):\n",
    "        return self.fc(self.model(**batch).pooler_output)\n",
    "device = torch.device('cuda' if torch.cuda.is_available() else 'cpu')\n",
    "model_name = \"deepvk/USER-bge-m3\"\n",
    "tokenizer = AutoTokenizer.from_pretrained(model_name)\n",
    "\n",
    "\n",
    "model = BertModel.from_pretrained(\n",
    "            model_name, \n",
    "            ignore_mismatched_sizes=True, \n",
    "            num_labels=len(classes_2)\n",
    "        )\n",
    "bert_cls = BertCLS(model, n_classes=len(classes_2))"
   ]
  },
  {
   "cell_type": "code",
   "execution_count": 29,
   "metadata": {},
   "outputs": [],
   "source": [
    "from torch.optim.lr_scheduler import CosineAnnealingWarmRestarts"
   ]
  },
  {
   "cell_type": "code",
   "execution_count": 30,
   "metadata": {},
   "outputs": [],
   "source": [
    "set_seed(42)\n",
    "# device = 'cpu'\n",
    "bert_cls = bert_cls.to(device)\n",
    "\n",
    "num_epochs = 10\n",
    "gradient_accumulation_steps = 1  # Increase to simulate a larger batch size\n",
    "\n",
    "batch_size = 32\n",
    "train_dataset = ClassificationDataset(X_train)\n",
    "train_loader = get_loader(train_dataset, shuffle=True, batch_size=batch_size)\n",
    "\n",
    "test_dataset = ClassificationDataset(X_test)\n",
    "test_loader = get_loader(test_dataset, shuffle=False, batch_size=batch_size)\n",
    "\n",
    "# Total training steps calculation\n",
    "total_steps = len(train_loader) * num_epochs // gradient_accumulation_steps\n",
    "\n",
    "# Optimizer with a smaller learning rate and weight decay for regularization\n",
    "optimizer = optim.AdamW(bert_cls.parameters(), lr=3e-5, weight_decay=0.01)\n",
    "\n",
    "scheduler = optim.lr_scheduler.OneCycleLR(optimizer, max_lr=3e-5,\n",
    "                                          total_steps=total_steps,\n",
    "                                          div_factor=25,\n",
    "                                          pct_start=0.1)\n",
    "loss_func = torch.nn.CrossEntropyLoss()"
   ]
  },
  {
   "cell_type": "code",
   "execution_count": 31,
   "metadata": {},
   "outputs": [],
   "source": [
    "def train(model, loss_func, device, train_loader, optimizer, epoch, gradient_accumulation_steps, scheduler):\n",
    "    model.train()\n",
    "    train_loader_length = len(train_loader) - 1 # хотим знать когда эпоха закончится\n",
    "    pbar = tqdm(train_loader)\n",
    "    for batch_idx, (data, labels) in enumerate(pbar):\n",
    "        data, labels = data.to(device), labels.to(device)\n",
    "        \n",
    "        t = time.time()\n",
    "        embeddings = model(data)\n",
    "        t2 = time.time() - t\n",
    "        \n",
    "        loss = loss_func(embeddings, labels) / gradient_accumulation_steps\n",
    "        \n",
    "#         tot_m, used_m, free_m = map(int, os.popen('free -t -m').readlines()[-1].split()[1:])\n",
    "        pbar.set_description(f\"Loss Train: {float(loss) * gradient_accumulation_steps} Time: {t2}\")\n",
    "        \n",
    "        loss.backward()\n",
    "        \n",
    "        if (batch_idx % gradient_accumulation_steps == 0) or (batch_idx == train_loader_length):\n",
    "            torch.nn.utils.clip_grad_norm_(model.parameters(), 1) # ставим модель в рамки, помогает\n",
    "            optimizer.step()\n",
    "            optimizer.zero_grad()\n",
    "            scheduler.step()\n",
    "        \n",
    "        del data, labels, embeddings, loss\n",
    "    return model\n"
   ]
  },
  {
   "cell_type": "code",
   "execution_count": 32,
   "metadata": {},
   "outputs": [],
   "source": [
    "def test(model, loader, device):\n",
    "    y_true = []\n",
    "    pred = []\n",
    "    model.eval()\n",
    "    with torch.no_grad():\n",
    "        pbar = tqdm(loader) \n",
    "        for batch_idx, (data, labels) in enumerate(pbar):\n",
    "            data = data.to(device)\n",
    "            embeddings = model(data)\n",
    "            pred.extend(embeddings.argmax(-1).detach().cpu().numpy())\n",
    "            y_true.extend(labels.detach().cpu().numpy())\n",
    "\n",
    "    return y_true, pred"
   ]
  },
  {
   "cell_type": "code",
   "execution_count": 33,
   "metadata": {},
   "outputs": [],
   "source": [
    "def metrics(y_true, pred):\n",
    "    print(\"matthews_corrcoef:\", matthews_corrcoef(y_true, pred))\n",
    "    print(\"accuracy_score:\", accuracy_score(y_true, pred))\n",
    "    print(\"f1_score:\", f1_score(y_true, pred, average='weighted'))"
   ]
  },
  {
   "cell_type": "code",
   "execution_count": 34,
   "metadata": {},
   "outputs": [],
   "source": [
    "for x in bert_cls.parameters(): x.requires_grad = True"
   ]
  },
  {
   "cell_type": "code",
   "execution_count": 35,
   "metadata": {},
   "outputs": [],
   "source": [
    "# count_parameters(bert_cls)"
   ]
  },
  {
   "cell_type": "code",
   "execution_count": 36,
   "metadata": {},
   "outputs": [
    {
     "data": {
      "application/vnd.jupyter.widget-view+json": {
       "model_id": "efaa652203a54e9685c8dd4780351f7f",
       "version_major": 2,
       "version_minor": 0
      },
      "text/plain": [
       "  0%|          | 0/36 [00:00<?, ?it/s]"
      ]
     },
     "metadata": {},
     "output_type": "display_data"
    },
    {
     "data": {
      "application/vnd.jupyter.widget-view+json": {
       "model_id": "c8993e07b5814e9fa4b810037979eec3",
       "version_major": 2,
       "version_minor": 0
      },
      "text/plain": [
       "  0%|          | 0/3 [00:00<?, ?it/s]"
      ]
     },
     "metadata": {},
     "output_type": "display_data"
    },
    {
     "name": "stdout",
     "output_type": "stream",
     "text": [
      "matthews_corrcoef: 0.5813169861250697\n",
      "accuracy_score: 0.654320987654321\n",
      "f1_score: 0.6118933307204912\n"
     ]
    },
    {
     "data": {
      "application/vnd.jupyter.widget-view+json": {
       "model_id": "f5bcac3931d44ec7aa0b583b3abb77f0",
       "version_major": 2,
       "version_minor": 0
      },
      "text/plain": [
       "  0%|          | 0/36 [00:00<?, ?it/s]"
      ]
     },
     "metadata": {},
     "output_type": "display_data"
    },
    {
     "data": {
      "application/vnd.jupyter.widget-view+json": {
       "model_id": "8f7301c0da7f4e969e809018bab16ccd",
       "version_major": 2,
       "version_minor": 0
      },
      "text/plain": [
       "  0%|          | 0/3 [00:00<?, ?it/s]"
      ]
     },
     "metadata": {},
     "output_type": "display_data"
    },
    {
     "name": "stdout",
     "output_type": "stream",
     "text": [
      "matthews_corrcoef: 0.7038068135493705\n",
      "accuracy_score: 0.7407407407407407\n",
      "f1_score: 0.7313212214805278\n"
     ]
    },
    {
     "data": {
      "application/vnd.jupyter.widget-view+json": {
       "model_id": "b22215f3ec984780be7e2dc6243e0669",
       "version_major": 2,
       "version_minor": 0
      },
      "text/plain": [
       "  0%|          | 0/36 [00:00<?, ?it/s]"
      ]
     },
     "metadata": {},
     "output_type": "display_data"
    },
    {
     "data": {
      "application/vnd.jupyter.widget-view+json": {
       "model_id": "efac8075f1b54cb6ab6f917a3ca3d772",
       "version_major": 2,
       "version_minor": 0
      },
      "text/plain": [
       "  0%|          | 0/3 [00:00<?, ?it/s]"
      ]
     },
     "metadata": {},
     "output_type": "display_data"
    },
    {
     "name": "stdout",
     "output_type": "stream",
     "text": [
      "matthews_corrcoef: 0.7945077919098213\n",
      "accuracy_score: 0.8271604938271605\n",
      "f1_score: 0.8186072783022673\n"
     ]
    },
    {
     "data": {
      "application/vnd.jupyter.widget-view+json": {
       "model_id": "7a1b736d24f44134bb173e6c2c985960",
       "version_major": 2,
       "version_minor": 0
      },
      "text/plain": [
       "  0%|          | 0/36 [00:00<?, ?it/s]"
      ]
     },
     "metadata": {},
     "output_type": "display_data"
    },
    {
     "data": {
      "application/vnd.jupyter.widget-view+json": {
       "model_id": "25e17a0d26ec434fadba486612310fea",
       "version_major": 2,
       "version_minor": 0
      },
      "text/plain": [
       "  0%|          | 0/3 [00:00<?, ?it/s]"
      ]
     },
     "metadata": {},
     "output_type": "display_data"
    },
    {
     "name": "stdout",
     "output_type": "stream",
     "text": [
      "matthews_corrcoef: 0.7751178846081869\n",
      "accuracy_score: 0.8024691358024691\n",
      "f1_score: 0.805264808110812\n"
     ]
    },
    {
     "data": {
      "application/vnd.jupyter.widget-view+json": {
       "model_id": "a1a63fc519c54c789f2fbc5d2972c90b",
       "version_major": 2,
       "version_minor": 0
      },
      "text/plain": [
       "  0%|          | 0/36 [00:00<?, ?it/s]"
      ]
     },
     "metadata": {},
     "output_type": "display_data"
    },
    {
     "data": {
      "application/vnd.jupyter.widget-view+json": {
       "model_id": "251702d9cd8a4f6ea553657733de6167",
       "version_major": 2,
       "version_minor": 0
      },
      "text/plain": [
       "  0%|          | 0/3 [00:00<?, ?it/s]"
      ]
     },
     "metadata": {},
     "output_type": "display_data"
    },
    {
     "name": "stdout",
     "output_type": "stream",
     "text": [
      "matthews_corrcoef: 0.8538256169511783\n",
      "accuracy_score: 0.8765432098765432\n",
      "f1_score: 0.8723202038016853\n"
     ]
    },
    {
     "data": {
      "application/vnd.jupyter.widget-view+json": {
       "model_id": "30b7c4d297a041098b4083b5f18c77bf",
       "version_major": 2,
       "version_minor": 0
      },
      "text/plain": [
       "  0%|          | 0/36 [00:00<?, ?it/s]"
      ]
     },
     "metadata": {},
     "output_type": "display_data"
    },
    {
     "data": {
      "application/vnd.jupyter.widget-view+json": {
       "model_id": "da868ac6687a4278804222fe23ab6385",
       "version_major": 2,
       "version_minor": 0
      },
      "text/plain": [
       "  0%|          | 0/3 [00:00<?, ?it/s]"
      ]
     },
     "metadata": {},
     "output_type": "display_data"
    },
    {
     "name": "stdout",
     "output_type": "stream",
     "text": [
      "matthews_corrcoef: 0.8567292295888953\n",
      "accuracy_score: 0.8765432098765432\n",
      "f1_score: 0.8742990831557659\n"
     ]
    },
    {
     "data": {
      "application/vnd.jupyter.widget-view+json": {
       "model_id": "8edefbcff21641e6827ba41ec4fffad4",
       "version_major": 2,
       "version_minor": 0
      },
      "text/plain": [
       "  0%|          | 0/36 [00:00<?, ?it/s]"
      ]
     },
     "metadata": {},
     "output_type": "display_data"
    },
    {
     "data": {
      "application/vnd.jupyter.widget-view+json": {
       "model_id": "1015e86b7e2b4ff7b1af1e174f20836d",
       "version_major": 2,
       "version_minor": 0
      },
      "text/plain": [
       "  0%|          | 0/3 [00:00<?, ?it/s]"
      ]
     },
     "metadata": {},
     "output_type": "display_data"
    },
    {
     "name": "stdout",
     "output_type": "stream",
     "text": [
      "matthews_corrcoef: 0.8686897240260342\n",
      "accuracy_score: 0.8888888888888888\n",
      "f1_score: 0.8841290678981311\n"
     ]
    },
    {
     "data": {
      "application/vnd.jupyter.widget-view+json": {
       "model_id": "9cfbbc740dc74649a4fd67d0531592f4",
       "version_major": 2,
       "version_minor": 0
      },
      "text/plain": [
       "  0%|          | 0/36 [00:00<?, ?it/s]"
      ]
     },
     "metadata": {},
     "output_type": "display_data"
    },
    {
     "data": {
      "application/vnd.jupyter.widget-view+json": {
       "model_id": "638b958a575542fc808c10b2c85010e0",
       "version_major": 2,
       "version_minor": 0
      },
      "text/plain": [
       "  0%|          | 0/3 [00:00<?, ?it/s]"
      ]
     },
     "metadata": {},
     "output_type": "display_data"
    },
    {
     "name": "stdout",
     "output_type": "stream",
     "text": [
      "matthews_corrcoef: 0.8570135989604135\n",
      "accuracy_score: 0.8765432098765432\n",
      "f1_score: 0.8797277598161395\n"
     ]
    },
    {
     "data": {
      "application/vnd.jupyter.widget-view+json": {
       "model_id": "1b4999b70df240739e0af910d3910cae",
       "version_major": 2,
       "version_minor": 0
      },
      "text/plain": [
       "  0%|          | 0/36 [00:00<?, ?it/s]"
      ]
     },
     "metadata": {},
     "output_type": "display_data"
    },
    {
     "data": {
      "application/vnd.jupyter.widget-view+json": {
       "model_id": "73035099f5a940adbbff6486ce8a2fd3",
       "version_major": 2,
       "version_minor": 0
      },
      "text/plain": [
       "  0%|          | 0/3 [00:00<?, ?it/s]"
      ]
     },
     "metadata": {},
     "output_type": "display_data"
    },
    {
     "name": "stdout",
     "output_type": "stream",
     "text": [
      "matthews_corrcoef: 0.8395478722173958\n",
      "accuracy_score: 0.8641975308641975\n",
      "f1_score: 0.8614085129080725\n"
     ]
    },
    {
     "data": {
      "application/vnd.jupyter.widget-view+json": {
       "model_id": "05cd0134d4844b2aadcc6c3075d048b0",
       "version_major": 2,
       "version_minor": 0
      },
      "text/plain": [
       "  0%|          | 0/36 [00:00<?, ?it/s]"
      ]
     },
     "metadata": {},
     "output_type": "display_data"
    },
    {
     "data": {
      "application/vnd.jupyter.widget-view+json": {
       "model_id": "b149a81d0b3244258746958f275dfcf1",
       "version_major": 2,
       "version_minor": 0
      },
      "text/plain": [
       "  0%|          | 0/3 [00:00<?, ?it/s]"
      ]
     },
     "metadata": {},
     "output_type": "display_data"
    },
    {
     "name": "stdout",
     "output_type": "stream",
     "text": [
      "matthews_corrcoef: 0.8685062694692066\n",
      "accuracy_score: 0.8888888888888888\n",
      "f1_score: 0.8850186165000979\n"
     ]
    }
   ],
   "source": [
    "# !mkdir 'models-all-classes'\n",
    "for epoch in range(1, num_epochs + 1):\n",
    "    bert_cls.train()\n",
    "    \n",
    "    clear_cache()\n",
    "    train(bert_cls, loss_func, device, train_loader, optimizer,\n",
    "          epoch, gradient_accumulation_steps, scheduler)\n",
    "    PATH = f\"./models-all-classes/{bert_cls.__class__.__name__}_epoch_{epoch}.pth\"\n",
    "    \n",
    "    \n",
    "    clear_cache()\n",
    "    y_true, pred = test(bert_cls, test_loader, device)\n",
    "    metrics(y_true, pred)"
   ]
  },
  {
   "cell_type": "code",
   "execution_count": 37,
   "metadata": {},
   "outputs": [],
   "source": [
    "torch.save(bert_cls, PATH)"
   ]
  },
  {
   "cell_type": "raw",
   "metadata": {},
   "source": [
    "Loss Train: 0.8718762993812561 Time: 0.025516986846923828: 100%\n",
    " 36/36 [00:25<00:00,  1.44it/s]\n",
    "100%\n",
    " 3/3 [00:00<00:00,  5.52it/s]\n",
    "\n",
    "matthews_corrcoef: 0.6445672904752169\n",
    "accuracy_score: 0.691358024691358\n",
    "f1_score: 0.6775419963825762\n",
    "\n",
    "Loss Train: 0.8485703468322754 Time: 0.0229184627532959: 100%\n",
    " 36/36 [00:24<00:00,  1.43it/s]\n",
    "100%\n",
    " 3/3 [00:00<00:00,  5.46it/s]\n",
    "\n",
    "matthews_corrcoef: 0.779409435668579\n",
    "accuracy_score: 0.8148148148148148\n",
    "f1_score: 0.7983911372255599\n",
    "\n",
    "Loss Train: 0.44691163301467896 Time: 0.01919841766357422: 100%\n",
    " 36/36 [00:25<00:00,  1.46it/s]\n",
    "100%\n",
    " 3/3 [00:00<00:00,  5.60it/s]\n",
    "\n",
    "matthews_corrcoef: 0.8110730266381698\n",
    "accuracy_score: 0.8395061728395061\n",
    "f1_score: 0.8386114228706821\n",
    "\n",
    "Loss Train: 0.28255465626716614 Time: 0.019287586212158203: 100%\n",
    " 36/36 [00:25<00:00,  1.39it/s]\n",
    "100%\n",
    " 3/3 [00:00<00:00,  5.54it/s]\n",
    "\n",
    "matthews_corrcoef: 0.8541484038547685\n",
    "accuracy_score: 0.8765432098765432\n",
    "f1_score: 0.8737632052446868\n",
    "\n",
    "Loss Train: 0.17042438685894012 Time: 0.018947601318359375: 100%\n",
    " 36/36 [00:25<00:00,  1.42it/s]\n",
    "100%\n",
    " 3/3 [00:00<00:00,  5.47it/s]\n",
    "\n",
    "matthews_corrcoef: 0.8090179428496889\n",
    "accuracy_score: 0.8395061728395061\n",
    "f1_score: 0.8360964138741918\n",
    "\n",
    "Loss Train: 0.08618392795324326 Time: 0.018917083740234375: 100%\n",
    " 36/36 [00:24<00:00,  1.46it/s]\n",
    "100%\n",
    " 3/3 [00:00<00:00,  5.53it/s]\n",
    "\n",
    "matthews_corrcoef: 0.8265712648892202\n",
    "accuracy_score: 0.8518518518518519\n",
    "f1_score: 0.8517802826981571\n",
    "\n",
    "Loss Train: 0.1202085092663765 Time: 0.01983642578125: 100%\n",
    " 36/36 [00:25<00:00,  1.40it/s]\n",
    "100%\n",
    " 3/3 [00:00<00:00,  5.46it/s]\n",
    "\n",
    "matthews_corrcoef: 0.8034821035535291\n",
    "accuracy_score: 0.8271604938271605\n",
    "f1_score: 0.8341430909847642\n",
    "\n",
    "Loss Train: 0.006309527438133955 Time: 0.020122766494750977: 100%\n",
    " 36/36 [00:25<00:00,  1.41it/s]\n",
    "100%\n",
    " 3/3 [00:00<00:00,  5.68it/s]\n",
    "\n",
    "matthews_corrcoef: 0.7982846157796883\n",
    "accuracy_score: 0.8271604938271605\n",
    "f1_score: 0.8306559881976613\n",
    "\n",
    "Loss Train: 0.01904294081032276 Time: 0.018091440200805664:  53%\n",
    " 19/36 [00:13<00:12,  1.35it/s]\n",
    "\n"
   ]
  },
  {
   "cell_type": "code",
   "execution_count": null,
   "metadata": {},
   "outputs": [],
   "source": []
  },
  {
   "cell_type": "code",
   "execution_count": null,
   "metadata": {},
   "outputs": [],
   "source": []
  },
  {
   "cell_type": "code",
   "execution_count": null,
   "metadata": {},
   "outputs": [],
   "source": []
  },
  {
   "cell_type": "code",
   "execution_count": null,
   "metadata": {},
   "outputs": [],
   "source": []
  }
 ],
 "metadata": {
  "kaggle": {
   "accelerator": "gpu",
   "dataSources": [
    {
     "datasetId": 5778019,
     "sourceId": 9502566,
     "sourceType": "datasetVersion"
    }
   ],
   "dockerImageVersionId": 30776,
   "isGpuEnabled": true,
   "isInternetEnabled": true,
   "language": "python",
   "sourceType": "notebook"
  },
  "kernelspec": {
   "display_name": "Python 3 (ipykernel)",
   "language": "python",
   "name": "python3"
  },
  "language_info": {
   "codemirror_mode": {
    "name": "ipython",
    "version": 3
   },
   "file_extension": ".py",
   "mimetype": "text/x-python",
   "name": "python",
   "nbconvert_exporter": "python",
   "pygments_lexer": "ipython3",
   "version": "3.10.12"
  }
 },
 "nbformat": 4,
 "nbformat_minor": 4
}

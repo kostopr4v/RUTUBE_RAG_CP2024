{
 "cells": [
  {
   "cell_type": "code",
   "execution_count": 1,
   "id": "0fc7c89b-f598-4708-b0db-d3b0ef4237c3",
   "metadata": {},
   "outputs": [
    {
     "name": "stdout",
     "output_type": "stream",
     "text": [
      "Requirement already satisfied: fastapi in /usr/local/lib/python3.10/dist-packages (0.115.0)\n",
      "Requirement already satisfied: loguru in /usr/local/lib/python3.10/dist-packages (0.7.2)\n",
      "Requirement already satisfied: typing-extensions>=4.8.0 in /usr/local/lib/python3.10/dist-packages (from fastapi) (4.12.2)\n",
      "Requirement already satisfied: starlette<0.39.0,>=0.37.2 in /usr/local/lib/python3.10/dist-packages (from fastapi) (0.38.6)\n",
      "Requirement already satisfied: pydantic!=1.8,!=1.8.1,!=2.0.0,!=2.0.1,!=2.1.0,<3.0.0,>=1.7.4 in /usr/local/lib/python3.10/dist-packages (from fastapi) (2.9.2)\n",
      "Requirement already satisfied: pydantic-core==2.23.4 in /usr/local/lib/python3.10/dist-packages (from pydantic!=1.8,!=1.8.1,!=2.0.0,!=2.0.1,!=2.1.0,<3.0.0,>=1.7.4->fastapi) (2.23.4)\n",
      "Requirement already satisfied: annotated-types>=0.6.0 in /usr/local/lib/python3.10/dist-packages (from pydantic!=1.8,!=1.8.1,!=2.0.0,!=2.0.1,!=2.1.0,<3.0.0,>=1.7.4->fastapi) (0.7.0)\n",
      "Requirement already satisfied: anyio<5,>=3.4.0 in /usr/local/lib/python3.10/dist-packages (from starlette<0.39.0,>=0.37.2->fastapi) (4.6.0)\n",
      "Requirement already satisfied: idna>=2.8 in /usr/local/lib/python3.10/dist-packages (from anyio<5,>=3.4.0->starlette<0.39.0,>=0.37.2->fastapi) (2.10)\n",
      "Requirement already satisfied: sniffio>=1.1 in /usr/local/lib/python3.10/dist-packages (from anyio<5,>=3.4.0->starlette<0.39.0,>=0.37.2->fastapi) (1.3.1)\n",
      "Requirement already satisfied: exceptiongroup>=1.0.2 in /usr/local/lib/python3.10/dist-packages (from anyio<5,>=3.4.0->starlette<0.39.0,>=0.37.2->fastapi) (1.2.2)\n",
      "\u001b[33mWARNING: Running pip as the 'root' user can result in broken permissions and conflicting behaviour with the system package manager. It is recommended to use a virtual environment instead: https://pip.pypa.io/warnings/venv\u001b[0m\u001b[33m\n",
      "\u001b[0m"
     ]
    }
   ],
   "source": [
    "!sudo pip install fastapi loguru"
   ]
  },
  {
   "cell_type": "code",
   "execution_count": 2,
   "id": "1d308998-3e75-4e33-9434-17b0adc391ea",
   "metadata": {},
   "outputs": [],
   "source": [
    "# !sudo  curl -sSL https://ngrok-agent.s3.amazonaws.com/ngrok.asc | sudo tee /etc/apt/trusted.gpg.d/ngrok.asc >/dev/null && echo \"deb https://ngrok-agent.s3.amazonaws.com buster main\" | sudo tee /etc/apt/sources.list.d/ngrok.list && sudo apt update && sudo apt install ngrok"
   ]
  },
  {
   "cell_type": "code",
   "execution_count": 3,
   "id": "560aea9e-f4bd-4cb7-9097-a47e0a885ce2",
   "metadata": {},
   "outputs": [],
   "source": [
    "# !sudo pip install ngrok-api"
   ]
  },
  {
   "cell_type": "code",
   "execution_count": 2,
   "id": "75f7693f-aac2-425d-8413-265b41dc163a",
   "metadata": {},
   "outputs": [],
   "source": [
    "import asyncio\n",
    "from fastapi import FastAPI\n",
    "from pydantic import BaseModel\n",
    "import uvicorn"
   ]
  },
  {
   "cell_type": "code",
   "execution_count": 5,
   "id": "3f809a93-edd7-4f67-8b84-de6d0dd3ea8b",
   "metadata": {},
   "outputs": [],
   "source": [
    "# !sudo pip uninstall pyngrok\n",
    "# from pyngrok import ngrok\n",
    "\n",
    "# # Construct the API client\n",
    "# # client = ngrok.Client(\"2miMoGd29rsmymap1vUca35jysd_2Li6vyyBXQmtEvhTFwNV6\")\n",
    "# import os\n",
    "# os.system('ngrok authtoken 2miMoGd29rsmymap1vUca35jysd_2Li6vyyBXQmtEvhTFwNV6')\n",
    "# url = ngrok.connect(port = 80)\n",
    "# print(url)"
   ]
  },
  {
   "cell_type": "code",
   "execution_count": 6,
   "id": "4c282cb8-b1c6-4cb1-955d-ecd1918cad94",
   "metadata": {},
   "outputs": [],
   "source": [
    "# !ngrok config add-authtoken 1yinXFJICgluDFqwlX1WDdJVWAS_7aeqVsZNd6cs8EmLSeiYC\n",
    "# !ngrok http --url=correctly-awake-dogfish.ngrok-free.app 80"
   ]
  },
  {
   "cell_type": "code",
   "execution_count": 3,
   "id": "6601d8d4-3637-4c25-b9cb-828e680108ec",
   "metadata": {},
   "outputs": [
    {
     "name": "stderr",
     "output_type": "stream",
     "text": [
      "INFO:     Started server process [9303]\n",
      "INFO:     Waiting for application startup.\n",
      "INFO:     Application startup complete.\n",
      "ERROR:    [Errno 13] error while attempting to bind on address ('127.0.0.1', 80): permission denied\n",
      "INFO:     Waiting for application shutdown.\n",
      "INFO:     Application shutdown complete.\n"
     ]
    }
   ],
   "source": [
    "class Request(BaseModel):\n",
    "    question: str\n",
    "\n",
    "\n",
    "class Response(BaseModel):\n",
    "    answer: str\n",
    "    class_1: str\n",
    "    class_2: str\n",
    "\n",
    "app = FastAPI()\n",
    "\n",
    "\n",
    "@app.get(\"/\")\n",
    "def index():\n",
    "    return {\"text\": \"Интеллектуальный помощник оператора службы поддержки.\"}\n",
    "\n",
    "    \n",
    "@app.post(\"/predict\")\n",
    "async def predict_sentiment(request: Request):\n",
    "    question_embedding = model.encode(request.question)\n",
    "    similarities = cos_sim(question_embedding, faq_embeddings)\n",
    "    anwer_data = faq.iloc[similarities.argmax().item()]\n",
    "    response = Response(\n",
    "        answer=anwer_data['Ответ из БЗ'],\n",
    "        class_1=anwer_data['Классификатор 1 уровня'], # Классификатор оценивается опционально; при отсутствии можно задать константное значение.\n",
    "        class_2=anwer_data['Классификатор 2 уровня'], # Классификатор оценивается опционально; при отсутствии можно задать константное значение.\n",
    "    )\n",
    "    return response\n",
    "# :4040  \n",
    "if __name__ == \"__main__\":\n",
    "    host = \"127.0.0.1\" # Сконфигурируйте host согласно настройкам вашего сервера.\n",
    "    config = uvicorn.Config(app, host=host, port=80)\n",
    "    server = uvicorn.Server(config)\n",
    "    loop = asyncio.get_running_loop()\n",
    "    loop.create_task(server.serve())\n"
   ]
  },
  {
   "cell_type": "code",
   "execution_count": 8,
   "id": "a488d6f5-84ad-43a3-87aa-9bbcb2d0db31",
   "metadata": {},
   "outputs": [
    {
     "name": "stdout",
     "output_type": "stream",
     "text": [
      "Requirement already satisfied: ngrok-api in /usr/local/lib/python3.10/dist-packages (0.12.0)\n",
      "Requirement already satisfied: requests==2.25.1 in /usr/local/lib/python3.10/dist-packages (from ngrok-api) (2.25.1)\n",
      "Requirement already satisfied: urllib3<1.27,>=1.21.1 in /usr/lib/python3/dist-packages (from requests==2.25.1->ngrok-api) (1.26.5)\n",
      "Requirement already satisfied: idna<3,>=2.5 in /usr/local/lib/python3.10/dist-packages (from requests==2.25.1->ngrok-api) (2.10)\n",
      "Requirement already satisfied: chardet<5,>=3.0.2 in /usr/lib/python3/dist-packages (from requests==2.25.1->ngrok-api) (4.0.0)\n",
      "Requirement already satisfied: certifi>=2017.4.17 in /usr/lib/python3/dist-packages (from requests==2.25.1->ngrok-api) (2020.6.20)\n",
      "\u001b[33mWARNING: Running pip as the 'root' user can result in broken permissions and conflicting behaviour with the system package manager. It is recommended to use a virtual environment instead: https://pip.pypa.io/warnings/venv\u001b[0m\u001b[33m\n",
      "\u001b[0m"
     ]
    },
    {
     "name": "stderr",
     "output_type": "stream",
     "text": [
      "INFO:     Started server process [9202]\n",
      "INFO:     Waiting for application startup.\n",
      "\u001b[32m2024-09-28 21:09:24.820\u001b[0m | \u001b[1mINFO    \u001b[0m | \u001b[36m__main__\u001b[0m:\u001b[36mlifespan\u001b[0m:\u001b[36m17\u001b[0m - \u001b[1mSetting up Ngrok Tunnel\u001b[0m\n",
      "ERROR:    Traceback (most recent call last):\n",
      "  File \"/usr/local/lib/python3.10/dist-packages/starlette/routing.py\", line 693, in lifespan\n",
      "    async with self.lifespan_context(app) as maybe_state:\n",
      "  File \"/usr/lib/python3.10/contextlib.py\", line 199, in __aenter__\n",
      "    return await anext(self.gen)\n",
      "  File \"/tmp/ipykernel_9202/127282004.py\", line 18, in lifespan\n",
      "    ngrok.set_auth_token(NGROK_AUTH_TOKEN)\n",
      "AttributeError: module 'ngrok' has no attribute 'set_auth_token'\n",
      "\n",
      "ERROR:    Application startup failed. Exiting.\n"
     ]
    }
   ],
   "source": [
    "!sudo pip install ngrok-api\n",
    "from contextlib import asynccontextmanager\n",
    "from os import getenv\n",
    "import asyncio\n",
    "import ngrok\n",
    "import uvicorn\n",
    "from fastapi import FastAPI\n",
    "from loguru import logger\n",
    "\n",
    "NGROK_AUTH_TOKEN = getenv(\"NGROK_AUTH_TOKEN\", \"\")\n",
    "NGROK_EDGE = getenv(\"NGROK_EDGE\", \"edge:edghts_\")\n",
    "APPLICATION_PORT = 4040\n",
    "\n",
    "# ngrok free tier only allows one agent. So we tear down the tunnel on application termination\n",
    "@asynccontextmanager\n",
    "async def lifespan(app: FastAPI):\n",
    "    logger.info(\"Setting up Ngrok Tunnel\")\n",
    "    ngrok.set_auth_token(NGROK_AUTH_TOKEN)\n",
    "    ngrok.forward(\n",
    "        addr=APPLICATION_PORT,\n",
    "        labels=NGROK_EDGE,\n",
    "        proto=\"labeled\",\n",
    "    )\n",
    "    yield\n",
    "    logger.info(\"Tearing Down Ngrok Tunnel\")\n",
    "    ngrok.disconnect()\n",
    "\n",
    "\n",
    "app = FastAPI(lifespan=lifespan)\n",
    "\n",
    "@app.get(\"/\")\n",
    "async def root():\n",
    "    return {\"message\": \"Hello World\"}\n",
    "\n",
    "if __name__ == \"__main__\":\n",
    "    host = \"127.0.0.1\" # Сконфигурируйте host согласно настройкам вашего сервера.\n",
    "    config = uvicorn.Config(app, host=host, port=4041)\n",
    "    server = uvicorn.Server(config)\n",
    "    loop = asyncio.get_running_loop()\n",
    "    loop.create_task(server.serve())"
   ]
  },
  {
   "cell_type": "code",
   "execution_count": null,
   "id": "9c61d9c7-4bee-4746-9fad-adff0a4cf578",
   "metadata": {},
   "outputs": [],
   "source": []
  },
  {
   "cell_type": "code",
   "execution_count": null,
   "id": "f36c9e26-8893-4519-bef0-bc0ab95d9093",
   "metadata": {},
   "outputs": [],
   "source": []
  },
  {
   "cell_type": "code",
   "execution_count": null,
   "id": "12903115-9f4b-4ceb-aef8-5669b6975633",
   "metadata": {},
   "outputs": [],
   "source": []
  }
 ],
 "metadata": {
  "kernelspec": {
   "display_name": "Python 3 (ipykernel)",
   "language": "python",
   "name": "python3"
  },
  "language_info": {
   "codemirror_mode": {
    "name": "ipython",
    "version": 3
   },
   "file_extension": ".py",
   "mimetype": "text/x-python",
   "name": "python",
   "nbconvert_exporter": "python",
   "pygments_lexer": "ipython3",
   "version": "3.10.12"
  }
 },
 "nbformat": 4,
 "nbformat_minor": 5
}

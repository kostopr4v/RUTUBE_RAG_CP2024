{
 "cells": [
  {
   "cell_type": "code",
   "execution_count": 1,
   "id": "4adc4e24-0de6-4060-8701-5307fbaf3733",
   "metadata": {},
   "outputs": [
    {
     "name": "stdout",
     "output_type": "stream",
     "text": [
      "{'answer': 'Чтобы сменить пароль на Rutube, выполните следующие шаги:\\n\\n1. Авторизуйтесь на Rutube, перейдите в свой профиль и нажмите «Изменить пароль». Следуйте подсказкам, которые будут предоставлены вам.\\n\\n2) Если вы забыли текущий пароль, вы можете воспользоваться функцией сброса пароля. Для этого выполните следующие действия:\\n\\n1. Нажмите на кнопку «Вход и регистрация» в правом верхнем углу страницы. В появившемся окне введите адрес электронной почты или номер телефона, используемые при регистрации, и нажмите «Продолжить».\\n2) В окне ввода пароля нажмите внизу на ссылку «Забыли пароль?». После этого на привязанный к вашему профилю электронный адрес придет код для сброса пароля. Следуйте инструкциям, чтобы сбросить пароль и изменить его.\\n\\nЕсли вы столкнулисьсь с проблемами при восстановлении пароля, обратитесь в службу поддержки Rutube по адресу help.rutube.ru, описав свою ситуацию.', 'class_1': 'УПРАВЛЕНИЕ АККАУНТОМ', 'class_2': 'Персонализация'}\n",
      "SUCCESSFUL. The service answer correctly.\n",
      "Question:  Как сменить пароль?\n",
      "Answer:  Чтобы сменить пароль на Rutube, выполните следующие шаги:\n",
      "\n",
      "1. Авторизуйтесь на Rutube, перейдите в свой профиль и нажмите «Изменить пароль». Следуйте подсказкам, которые будут предоставлены вам.\n",
      "\n",
      "2) Если вы забыли текущий пароль, вы можете воспользоваться функцией сброса пароля. Для этого выполните следующие действия:\n",
      "\n",
      "1. Нажмите на кнопку «Вход и регистрация» в правом верхнем углу страницы. В появившемся окне введите адрес электронной почты или номер телефона, используемые при регистрации, и нажмите «Продолжить».\n",
      "2) В окне ввода пароля нажмите внизу на ссылку «Забыли пароль?». После этого на привязанный к вашему профилю электронный адрес придет код для сброса пароля. Следуйте инструкциям, чтобы сбросить пароль и изменить его.\n",
      "\n",
      "Если вы столкнулисьсь с проблемами при восстановлении пароля, обратитесь в службу поддержки Rutube по адресу help.rutube.ru, описав свою ситуацию.\n",
      "class_1:  УПРАВЛЕНИЕ АККАУНТОМ\n",
      "class_2:  Персонализация\n"
     ]
    }
   ],
   "source": [
    "import requests\n",
    "\n",
    "def check_api(url: str, data_json: dict = None) -> None:\n",
    "    \"\"\"\n",
    "    Checks that response is in the correct JSON format.\n",
    "    Args:\n",
    "        url (str): The URL of the service to check.\n",
    "        data_json (Optional[dict]): Data to post. Optional.\n",
    "    \"\"\"\n",
    "    if data_json is None:\n",
    "        data_json = {\"question\": \"Как сменить пароль?\"}\n",
    "    elif not isinstance(data_json, dict):\n",
    "        raise ValueError(\"The ``data_json`` must be in dict format.\")\n",
    "    elif not data_json.get(\"question\", None):\n",
    "        raise KeyError(\"The ``data_json'' must contain a ``question`` key.\")\n",
    "    resp = requests.post(url, json=data_json)\n",
    "    # resp.raise_for_status()\n",
    "    answer_json = resp.json()\n",
    "    print(answer_json)\n",
    "    if all(name in answer_json for name in [\"answer\", \"class_1\", \"class_2\"]):\n",
    "        print(\"SUCCESSFUL. The service answer correctly.\")\n",
    "        print(\"Question: \", data_json['question'])\n",
    "        print(\"Answer: \", answer_json['answer'])\n",
    "        print(\"class_1: \", answer_json['class_1'])\n",
    "        print(\"class_2: \", answer_json['class_2'])\n",
    "    else:\n",
    "        raise ValueError('The answer is not in the correct format. The expected format is '\n",
    "                         '{\"answer\": \"...\", \"class_1\": \"...\", \"class_2\": \"...\"}.')\n",
    "\n",
    "check_api(\"https://correctly-awake-dogfish.ngrok-free.app/predict\")"
   ]
  }
 ],
 "metadata": {
  "kernelspec": {
   "display_name": "Python 3 (ipykernel)",
   "language": "python",
   "name": "python3"
  },
  "language_info": {
   "codemirror_mode": {
    "name": "ipython",
    "version": 3
   },
   "file_extension": ".py",
   "mimetype": "text/x-python",
   "name": "python",
   "nbconvert_exporter": "python",
   "pygments_lexer": "ipython3",
   "version": "3.10.12"
  }
 },
 "nbformat": 4,
 "nbformat_minor": 5
}
